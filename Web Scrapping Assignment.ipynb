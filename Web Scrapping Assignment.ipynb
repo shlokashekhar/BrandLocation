{
 "cells": [
  {
   "cell_type": "code",
   "execution_count": 1,
   "id": "413a49f4",
   "metadata": {},
   "outputs": [],
   "source": [
    "import requests\n",
    "import json\n",
    "import csv\n",
    "import pandas as pd\n",
    "import matplotlib.pyplot as plt\n",
    "%matplotlib inline\n",
    "import seaborn as sns\n",
    "\n",
    "import warnings\n",
    "warnings.filterwarnings(\"ignore\")"
   ]
  },
  {
   "cell_type": "code",
   "execution_count": 2,
   "id": "eaef9d7d",
   "metadata": {},
   "outputs": [],
   "source": [
    "url = \"https://api.pantaloons.com/store/getCurrentStore\""
   ]
  },
  {
   "cell_type": "code",
   "execution_count": 3,
   "id": "51672e07",
   "metadata": {},
   "outputs": [],
   "source": [
    "payload = json.dumps({\n",
    "  \"brand\": \"pantaloons\",\n",
    "  \"validateHash\": False,\n",
    "  \"hash\": \"b991e1b3d3352b7d89ce3df3cccec3e9\",\n",
    "  \"utmSource\": -1,\n",
    "  \"version\": 3.4,\n",
    "  \"geoLocation\": {\n",
    "    \"latitude\": 0\n",
    "  },\n",
    "  \"deviceType\": \"desktop\",\n",
    "  \"fcmToken\": \"111\",\n",
    "  \"deviceId\": \"bdec426-1a64-dfaa-de61-ad64daa2aa0c\",\n",
    "  \"deviceToken\": \"d2a2bb1bd314801ec4aed24f978727e6.1680524955\",\n",
    "  \"sessionId\": \"d2a2bb1bd314801ec4aed24f978727e6\",\n",
    "  \"searchWord\": \" \",\n",
    "  \"cartId\": 0,\n",
    "  \"customerId\": 0,\n",
    "  \"sliderSource\": -1,\n",
    "  \"cartOperation\": \"add\"\n",
    "})\n",
    "headers = {\n",
    "  'authority': 'api.pantaloons.com',\n",
    "  'accept': 'application/json',\n",
    "  'accept-language': 'en-US,en;q=0.9',\n",
    "  'content-type': 'application/json',\n",
    "  'env': 'prod',\n",
    "  'origin': 'https://www.pantaloons.com',\n",
    "  'referer': 'https://www.pantaloons.com/',\n",
    "  'sec-ch-ua': '\"Google Chrome\";v=\"111\", \"Not(A:Brand\";v=\"8\", \"Chromium\";v=\"111\"',\n",
    "  'sec-ch-ua-mobile': '?0',\n",
    "  'sec-ch-ua-platform': '\"Windows\"',\n",
    "  'sec-fetch-dest': 'empty',\n",
    "  'sec-fetch-mode': 'cors',\n",
    "  'sec-fetch-site': 'same-site',\n",
    "  'securekey': '12345',\n",
    "  'source': 'desktop',\n",
    "  'user-agent': 'Mozilla/5.0 (Windows NT 10.0; Win64; x64) AppleWebKit/537.36 (KHTML, like Gecko) Chrome/111.0.0.0 Safari/537.36'\n",
    "}\n"
   ]
  },
  {
   "cell_type": "code",
   "execution_count": 4,
   "id": "408a7c6e",
   "metadata": {},
   "outputs": [],
   "source": [
    "data = requests.post(url, headers=headers, data=payload)\n",
    "\n",
    "print(data.text.encode('utf8'))"
   ]
  },
  {
   "cell_type": "code",
   "execution_count": 5,
   "id": "f151625c",
   "metadata": {},
   "outputs": [
    {
     "data": {
      "text/plain": [
       "200"
      ]
     },
     "execution_count": 5,
     "metadata": {},
     "output_type": "execute_result"
    }
   ],
   "source": [
    "data.status_code"
   ]
  },
  {
   "cell_type": "code",
   "execution_count": 6,
   "id": "1fde5a7f",
   "metadata": {},
   "outputs": [],
   "source": [
    "stores = json.loads(data.text)"
   ]
  },
  {
   "cell_type": "code",
   "execution_count": 7,
   "id": "06eaaac9",
   "metadata": {},
   "outputs": [],
   "source": [
    "stores['results']"
   ]
  },
  {
   "cell_type": "code",
   "execution_count": 8,
   "id": "053b73e3",
   "metadata": {},
   "outputs": [
    {
     "data": {
      "text/plain": [
       "dict_keys(['success', 'results', 'msg', 'cache', 'ttl', 'hash'])"
      ]
     },
     "execution_count": 8,
     "metadata": {},
     "output_type": "execute_result"
    }
   ],
   "source": [
    "stores.keys()"
   ]
  },
  {
   "cell_type": "code",
   "execution_count": 9,
   "id": "ee78b717",
   "metadata": {},
   "outputs": [],
   "source": [
    "del stores['success']\n",
    "del stores['msg']\n",
    "del stores['cache']\n",
    "del stores['hash']\n",
    "del stores['ttl']"
   ]
  },
  {
   "cell_type": "code",
   "execution_count": 10,
   "id": "30cd234a",
   "metadata": {},
   "outputs": [],
   "source": [
    "with open('Pantaloon_Locations.csv', 'w', encoding = 'utf-8') as pt:\n",
    "    \n",
    "    writer = csv.writer(pt, delimiter = \",\", quotechar = '\"', quoting = csv.QUOTE_MINIMAL)\n",
    "    \n",
    "    writer.writerow([\n",
    "        \"Retek_code\",\n",
    "        \"store_name\",\n",
    "        \"city\",\n",
    "        \"pincode\",\n",
    "        \"address\",\n",
    "        \"latitude\",\n",
    "        \"longitude\",\n",
    "        \"contact\",\n",
    "        \"whatsapp\",\n",
    "        \"manager_contact\",\n",
    "        \"opening\",\n",
    "        \"closing\"\n",
    "        \n",
    "    ])\n",
    "    \n",
    "    for store in stores['results']:\n",
    "        row = []\n",
    "        retek_code = store['retek_code']\n",
    "        store_name = store['store_name']\n",
    "        city = store['city']\n",
    "        pincode = store['pincode']\n",
    "        address = store['address']\n",
    "        latitude = store['latitude']\n",
    "        longitude = store['longitude']\n",
    "        contact = store['phone_number']\n",
    "        whatsapp = store['whatsapp_number']\n",
    "        manager_contact = store['store_manager_contact']\n",
    "        opening = store['open_timings']\n",
    "        closing = store['closing_time']\n",
    "\n",
    "        \n",
    "        row.append(retek_code)\n",
    "        row.append(store_name)\n",
    "        row.append(city)\n",
    "        row.append(pincode)\n",
    "        row.append(address)\n",
    "        row.append(latitude)\n",
    "        row.append(longitude)\n",
    "        row.append(contact)\n",
    "        row.append(whatsapp)\n",
    "        row.append(manager_contact)\n",
    "        row.append(opening)\n",
    "        row.append(closing)\n",
    "        \n",
    "        writer.writerow(row)"
   ]
  },
  {
   "cell_type": "code",
   "execution_count": 11,
   "id": "b3da7df6",
   "metadata": {},
   "outputs": [],
   "source": [
    "pantaloon = pd.read_csv('Pantaloon_Locations.csv')"
   ]
  },
  {
   "cell_type": "code",
   "execution_count": 12,
   "id": "d6490b7e",
   "metadata": {
    "scrolled": true
   },
   "outputs": [
    {
     "data": {
      "text/html": [
       "<div>\n",
       "<style scoped>\n",
       "    .dataframe tbody tr th:only-of-type {\n",
       "        vertical-align: middle;\n",
       "    }\n",
       "\n",
       "    .dataframe tbody tr th {\n",
       "        vertical-align: top;\n",
       "    }\n",
       "\n",
       "    .dataframe thead th {\n",
       "        text-align: right;\n",
       "    }\n",
       "</style>\n",
       "<table border=\"1\" class=\"dataframe\">\n",
       "  <thead>\n",
       "    <tr style=\"text-align: right;\">\n",
       "      <th></th>\n",
       "      <th>Retek_code</th>\n",
       "      <th>store_name</th>\n",
       "      <th>city</th>\n",
       "      <th>pincode</th>\n",
       "      <th>address</th>\n",
       "      <th>latitude</th>\n",
       "      <th>longitude</th>\n",
       "      <th>contact</th>\n",
       "      <th>whatsapp</th>\n",
       "      <th>manager_contact</th>\n",
       "      <th>opening</th>\n",
       "      <th>closing</th>\n",
       "    </tr>\n",
       "  </thead>\n",
       "  <tbody>\n",
       "    <tr>\n",
       "      <th>0</th>\n",
       "      <td>P023_1000</td>\n",
       "      <td>ROHINI</td>\n",
       "      <td>New Delhi</td>\n",
       "      <td>110085</td>\n",
       "      <td>Unitech Metro Walk, Sector 10, Near Rithala Me...</td>\n",
       "      <td>28.723936</td>\n",
       "      <td>77.112953</td>\n",
       "      <td>01127574183</td>\n",
       "      <td>918929301611</td>\n",
       "      <td>9990629052</td>\n",
       "      <td>11:00 AM</td>\n",
       "      <td>9:30 PM</td>\n",
       "    </tr>\n",
       "    <tr>\n",
       "      <th>1</th>\n",
       "      <td>P097_1000</td>\n",
       "      <td>NORTH COUNTRY MALL</td>\n",
       "      <td>Mohali</td>\n",
       "      <td>140307</td>\n",
       "      <td>F-15, NC Mall, Kharar Mohali Road, National Hi...</td>\n",
       "      <td>30.738764</td>\n",
       "      <td>76.678627</td>\n",
       "      <td>01726703258</td>\n",
       "      <td>911726703258</td>\n",
       "      <td>8729007627</td>\n",
       "      <td>11:00 AM</td>\n",
       "      <td>9:30 PM</td>\n",
       "    </tr>\n",
       "    <tr>\n",
       "      <th>2</th>\n",
       "      <td>P002_1000</td>\n",
       "      <td>BEGUMPET</td>\n",
       "      <td>Hyderabad</td>\n",
       "      <td>500016</td>\n",
       "      <td>Saptagiri Towers Begumpet, S. P. Road, Hyderab...</td>\n",
       "      <td>17.444366</td>\n",
       "      <td>78.462822</td>\n",
       "      <td>9513703084</td>\n",
       "      <td>919513703084</td>\n",
       "      <td>7660004347</td>\n",
       "      <td>11:00 AM</td>\n",
       "      <td>9:30 PM</td>\n",
       "    </tr>\n",
       "    <tr>\n",
       "      <th>3</th>\n",
       "      <td>P154_1000</td>\n",
       "      <td>NAINITAL ROAD</td>\n",
       "      <td>Haldwani</td>\n",
       "      <td>263126</td>\n",
       "      <td>Pantaloons, Walkway Mall, Nainital Road, NH-87...</td>\n",
       "      <td>29.245142</td>\n",
       "      <td>79.533470</td>\n",
       "      <td>05946282899</td>\n",
       "      <td>915946282899</td>\n",
       "      <td>7895692666</td>\n",
       "      <td>11:00 AM</td>\n",
       "      <td>9:30 PM</td>\n",
       "    </tr>\n",
       "    <tr>\n",
       "      <th>4</th>\n",
       "      <td>P140_1000</td>\n",
       "      <td>SIGRA</td>\n",
       "      <td>Varanasi</td>\n",
       "      <td>221010</td>\n",
       "      <td>D-58/12, A1, Gandhinagar, Sigra, Varanasi - 22...</td>\n",
       "      <td>25.311197</td>\n",
       "      <td>82.987038</td>\n",
       "      <td>7248001118</td>\n",
       "      <td>9.15E+11</td>\n",
       "      <td>7248001118</td>\n",
       "      <td>11:00 AM</td>\n",
       "      <td>9:30 PM</td>\n",
       "    </tr>\n",
       "  </tbody>\n",
       "</table>\n",
       "</div>"
      ],
      "text/plain": [
       "  Retek_code          store_name       city  pincode  \\\n",
       "0  P023_1000              ROHINI  New Delhi   110085   \n",
       "1  P097_1000  NORTH COUNTRY MALL     Mohali   140307   \n",
       "2  P002_1000            BEGUMPET  Hyderabad   500016   \n",
       "3  P154_1000       NAINITAL ROAD   Haldwani   263126   \n",
       "4  P140_1000               SIGRA   Varanasi   221010   \n",
       "\n",
       "                                             address   latitude  longitude  \\\n",
       "0  Unitech Metro Walk, Sector 10, Near Rithala Me...  28.723936  77.112953   \n",
       "1  F-15, NC Mall, Kharar Mohali Road, National Hi...  30.738764  76.678627   \n",
       "2  Saptagiri Towers Begumpet, S. P. Road, Hyderab...  17.444366  78.462822   \n",
       "3  Pantaloons, Walkway Mall, Nainital Road, NH-87...  29.245142  79.533470   \n",
       "4  D-58/12, A1, Gandhinagar, Sigra, Varanasi - 22...  25.311197  82.987038   \n",
       "\n",
       "       contact      whatsapp manager_contact   opening  closing  \n",
       "0  01127574183  918929301611      9990629052  11:00 AM  9:30 PM  \n",
       "1  01726703258  911726703258      8729007627  11:00 AM  9:30 PM  \n",
       "2   9513703084  919513703084      7660004347  11:00 AM  9:30 PM  \n",
       "3  05946282899  915946282899      7895692666  11:00 AM  9:30 PM  \n",
       "4   7248001118      9.15E+11      7248001118  11:00 AM  9:30 PM  "
      ]
     },
     "execution_count": 12,
     "metadata": {},
     "output_type": "execute_result"
    }
   ],
   "source": [
    "pantaloon.head()"
   ]
  },
  {
   "cell_type": "code",
   "execution_count": 13,
   "id": "d4c2e563",
   "metadata": {},
   "outputs": [
    {
     "name": "stdout",
     "output_type": "stream",
     "text": [
      "(422, 12)\n",
      "Retek_code          object\n",
      "store_name          object\n",
      "city                object\n",
      "pincode              int64\n",
      "address             object\n",
      "latitude           float64\n",
      "longitude          float64\n",
      "contact             object\n",
      "whatsapp            object\n",
      "manager_contact     object\n",
      "opening             object\n",
      "closing             object\n",
      "dtype: object\n"
     ]
    }
   ],
   "source": [
    "print(pantaloon.shape)\n",
    "print(pantaloon.dtypes)"
   ]
  },
  {
   "cell_type": "code",
   "execution_count": 14,
   "id": "c1c0efeb",
   "metadata": {},
   "outputs": [
    {
     "data": {
      "text/plain": [
       "Retek_code          0\n",
       "store_name          0\n",
       "city                0\n",
       "pincode             0\n",
       "address             0\n",
       "latitude            0\n",
       "longitude           0\n",
       "contact             0\n",
       "whatsapp           14\n",
       "manager_contact    26\n",
       "opening             6\n",
       "closing             6\n",
       "dtype: int64"
      ]
     },
     "execution_count": 14,
     "metadata": {},
     "output_type": "execute_result"
    }
   ],
   "source": [
    "pantaloon.isna().sum()"
   ]
  },
  {
   "cell_type": "code",
   "execution_count": 15,
   "id": "06d5af19",
   "metadata": {},
   "outputs": [
    {
     "data": {
      "text/plain": [
       "Kolkata      24\n",
       "Bengaluru    23\n",
       "Mumbai       21\n",
       "Chennai      17\n",
       "Pune         16\n",
       "Hyderabad    14\n",
       "New Delhi    13\n",
       "Ahmedabad    13\n",
       "Gurugram      9\n",
       "Lucknow       7\n",
       "Name: city, dtype: int64"
      ]
     },
     "execution_count": 15,
     "metadata": {},
     "output_type": "execute_result"
    }
   ],
   "source": [
    "pantaloon.city.value_counts().head(10)"
   ]
  },
  {
   "cell_type": "code",
   "execution_count": 16,
   "id": "26a2503f",
   "metadata": {},
   "outputs": [
    {
     "data": {
      "text/plain": [
       "Text(0, 0.5, 'Fraction/Percent')"
      ]
     },
     "execution_count": 16,
     "metadata": {},
     "output_type": "execute_result"
    },
    {
     "data": {
      "image/png": "[encoded data removed]",
      "text/plain": [
       "<Figure size 1440x600 with 1 Axes>"
      ]
     },
     "metadata": {
      "needs_background": "light"
     },
     "output_type": "display_data"
    }
   ],
   "source": [
    "plt.figure(figsize = (12,5), dpi = 120)\n",
    "city_count = pantaloon['city'].value_counts(normalize=True).head(10)\n",
    "sns.barplot(city_count.index, city_count, order = city_count.index)\n",
    "plt.xlabel('City')\n",
    "plt.ylabel('Fraction/Percent')"
   ]
  }
 ],
 "metadata": {
  "kernelspec": {
   "display_name": "Python 3",
   "language": "python",
   "name": "python3"
  },
  "language_info": {
   "codemirror_mode": {
    "name": "ipython",
    "version": 3
   },
   "file_extension": ".py",
   "mimetype": "text/x-python",
   "name": "python",
   "nbconvert_exporter": "python",
   "pygments_lexer": "ipython3",
   "version": "3.8.8"
  }
 },
 "nbformat": 4,
 "nbformat_minor": 5
}
